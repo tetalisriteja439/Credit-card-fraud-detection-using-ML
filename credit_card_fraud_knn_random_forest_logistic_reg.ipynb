{
  "cells": [
    {
      "cell_type": "markdown",
      "metadata": {
        "id": "obNdUe2zjlza"
      },
      "source": [
        "# Credit Card Fraud Detection\n",
        "\n",
        "In this project I have compared various classification models to check which model gives the best result.\n",
        "\n",
        "Models were built on the imbalanced data and hyperparameters were tuned. Then SMOTE and ADASYN techniques were used to balance the data. Models was tried on both SMOTE and ADASYN data to see which one is producing better result.\n",
        "\n",
        "Used the following classification models.\n",
        "\n",
        "* Logistic Regression\n",
        "* KNN\n",
        "* Decision Tree\n",
        "* Random forest\n",
        "* XGBoost"
      ]
    },
    {
      "cell_type": "code",
      "execution_count": null,
      "metadata": {
        "id": "jsYp82a0jlzh",
        "scrolled": false
      },
      "outputs": [],
      "source": [
        "import numpy as np\n",
        "import pandas as pd\n",
        "\n",
        "import matplotlib.pyplot as plt\n",
        "%matplotlib inline\n",
        "import seaborn as sns\n",
        "\n",
        "from sklearn import metrics\n",
        "from sklearn import preprocessing\n",
        "from sklearn.model_selection  import cross_val_score\n",
        "\n",
        "\n",
        "from sklearn.metrics import roc_curve\n",
        "from sklearn.metrics import roc_auc_score\n",
        "from sklearn.metrics import plot_roc_curve"
      ]
    },
    {
      "cell_type": "markdown",
      "metadata": {
        "id": "FyMPLxrSjlz2"
      },
      "source": [
        "## Exploratory data analysis"
      ]
    },
    {
      "cell_type": "code",
      "execution_count": null,
      "metadata": {
        "id": "9F68szIgjlz4",
        "outputId": "ea287971-f93f-486b-a9fe-b1f5e7423ebd",
        "scrolled": true
      },
      "outputs": [
        {
          "data": {
            "text/html": [
              "<div>\n",
              "<style scoped>\n",
              "    .dataframe tbody tr th:only-of-type {\n",
              "        vertical-align: middle;\n",
              "    }\n",
              "\n",
              "    .dataframe tbody tr th {\n",
              "        vertical-align: top;\n",
              "    }\n",
              "\n",
              "    .dataframe thead th {\n",
              "        text-align: right;\n",
              "    }\n",
              "</style>\n",
              "<table border=\"1\" class=\"dataframe\">\n",
              "  <thead>\n",
              "    <tr style=\"text-align: right;\">\n",
              "      <th></th>\n",
              "      <th>Time</th>\n",
              "      <th>V1</th>\n",
              "      <th>V2</th>\n",
              "      <th>V3</th>\n",
              "      <th>V4</th>\n",
              "      <th>V5</th>\n",
              "      <th>V6</th>\n",
              "      <th>V7</th>\n",
              "      <th>V8</th>\n",
              "      <th>V9</th>\n",
              "      <th>...</th>\n",
              "      <th>V21</th>\n",
              "      <th>V22</th>\n",
              "      <th>V23</th>\n",
              "      <th>V24</th>\n",
              "      <th>V25</th>\n",
              "      <th>V26</th>\n",
              "      <th>V27</th>\n",
              "      <th>V28</th>\n",
              "      <th>Amount</th>\n",
              "      <th>Class</th>\n",
              "    </tr>\n",
              "  </thead>\n",
              "  <tbody>\n",
              "    <tr>\n",
              "      <th>0</th>\n",
              "      <td>0.0</td>\n",
              "      <td>-1.359807</td>\n",
              "      <td>-0.072781</td>\n",
              "      <td>2.536347</td>\n",
              "      <td>1.378155</td>\n",
              "      <td>-0.338321</td>\n",
              "      <td>0.462388</td>\n",
              "      <td>0.239599</td>\n",
              "      <td>0.098698</td>\n",
              "      <td>0.363787</td>\n",
              "      <td>...</td>\n",
              "      <td>-0.018307</td>\n",
              "      <td>0.277838</td>\n",
              "      <td>-0.110474</td>\n",
              "      <td>0.066928</td>\n",
              "      <td>0.128539</td>\n",
              "      <td>-0.189115</td>\n",
              "      <td>0.133558</td>\n",
              "      <td>-0.021053</td>\n",
              "      <td>149.62</td>\n",
              "      <td>0</td>\n",
              "    </tr>\n",
              "    <tr>\n",
              "      <th>1</th>\n",
              "      <td>0.0</td>\n",
              "      <td>1.191857</td>\n",
              "      <td>0.266151</td>\n",
              "      <td>0.166480</td>\n",
              "      <td>0.448154</td>\n",
              "      <td>0.060018</td>\n",
              "      <td>-0.082361</td>\n",
              "      <td>-0.078803</td>\n",
              "      <td>0.085102</td>\n",
              "      <td>-0.255425</td>\n",
              "      <td>...</td>\n",
              "      <td>-0.225775</td>\n",
              "      <td>-0.638672</td>\n",
              "      <td>0.101288</td>\n",
              "      <td>-0.339846</td>\n",
              "      <td>0.167170</td>\n",
              "      <td>0.125895</td>\n",
              "      <td>-0.008983</td>\n",
              "      <td>0.014724</td>\n",
              "      <td>2.69</td>\n",
              "      <td>0</td>\n",
              "    </tr>\n",
              "    <tr>\n",
              "      <th>2</th>\n",
              "      <td>1.0</td>\n",
              "      <td>-1.358354</td>\n",
              "      <td>-1.340163</td>\n",
              "      <td>1.773209</td>\n",
              "      <td>0.379780</td>\n",
              "      <td>-0.503198</td>\n",
              "      <td>1.800499</td>\n",
              "      <td>0.791461</td>\n",
              "      <td>0.247676</td>\n",
              "      <td>-1.514654</td>\n",
              "      <td>...</td>\n",
              "      <td>0.247998</td>\n",
              "      <td>0.771679</td>\n",
              "      <td>0.909412</td>\n",
              "      <td>-0.689281</td>\n",
              "      <td>-0.327642</td>\n",
              "      <td>-0.139097</td>\n",
              "      <td>-0.055353</td>\n",
              "      <td>-0.059752</td>\n",
              "      <td>378.66</td>\n",
              "      <td>0</td>\n",
              "    </tr>\n",
              "    <tr>\n",
              "      <th>3</th>\n",
              "      <td>1.0</td>\n",
              "      <td>-0.966272</td>\n",
              "      <td>-0.185226</td>\n",
              "      <td>1.792993</td>\n",
              "      <td>-0.863291</td>\n",
              "      <td>-0.010309</td>\n",
              "      <td>1.247203</td>\n",
              "      <td>0.237609</td>\n",
              "      <td>0.377436</td>\n",
              "      <td>-1.387024</td>\n",
              "      <td>...</td>\n",
              "      <td>-0.108300</td>\n",
              "      <td>0.005274</td>\n",
              "      <td>-0.190321</td>\n",
              "      <td>-1.175575</td>\n",
              "      <td>0.647376</td>\n",
              "      <td>-0.221929</td>\n",
              "      <td>0.062723</td>\n",
              "      <td>0.061458</td>\n",
              "      <td>123.50</td>\n",
              "      <td>0</td>\n",
              "    </tr>\n",
              "    <tr>\n",
              "      <th>4</th>\n",
              "      <td>2.0</td>\n",
              "      <td>-1.158233</td>\n",
              "      <td>0.877737</td>\n",
              "      <td>1.548718</td>\n",
              "      <td>0.403034</td>\n",
              "      <td>-0.407193</td>\n",
              "      <td>0.095921</td>\n",
              "      <td>0.592941</td>\n",
              "      <td>-0.270533</td>\n",
              "      <td>0.817739</td>\n",
              "      <td>...</td>\n",
              "      <td>-0.009431</td>\n",
              "      <td>0.798278</td>\n",
              "      <td>-0.137458</td>\n",
              "      <td>0.141267</td>\n",
              "      <td>-0.206010</td>\n",
              "      <td>0.502292</td>\n",
              "      <td>0.219422</td>\n",
              "      <td>0.215153</td>\n",
              "      <td>69.99</td>\n",
              "      <td>0</td>\n",
              "    </tr>\n",
              "  </tbody>\n",
              "</table>\n",
              "<p>5 rows × 31 columns</p>\n",
              "</div>"
            ],
            "text/plain": [
              "   Time        V1        V2        V3        V4        V5        V6        V7  \\\n",
              "0   0.0 -1.359807 -0.072781  2.536347  1.378155 -0.338321  0.462388  0.239599   \n",
              "1   0.0  1.191857  0.266151  0.166480  0.448154  0.060018 -0.082361 -0.078803   \n",
              "2   1.0 -1.358354 -1.340163  1.773209  0.379780 -0.503198  1.800499  0.791461   \n",
              "3   1.0 -0.966272 -0.185226  1.792993 -0.863291 -0.010309  1.247203  0.237609   \n",
              "4   2.0 -1.158233  0.877737  1.548718  0.403034 -0.407193  0.095921  0.592941   \n",
              "\n",
              "         V8        V9  ...       V21       V22       V23       V24       V25  \\\n",
              "0  0.098698  0.363787  ... -0.018307  0.277838 -0.110474  0.066928  0.128539   \n",
              "1  0.085102 -0.255425  ... -0.225775 -0.638672  0.101288 -0.339846  0.167170   \n",
              "2  0.247676 -1.514654  ...  0.247998  0.771679  0.909412 -0.689281 -0.327642   \n",
              "3  0.377436 -1.387024  ... -0.108300  0.005274 -0.190321 -1.175575  0.647376   \n",
              "4 -0.270533  0.817739  ... -0.009431  0.798278 -0.137458  0.141267 -0.206010   \n",
              "\n",
              "        V26       V27       V28  Amount  Class  \n",
              "0 -0.189115  0.133558 -0.021053  149.62      0  \n",
              "1  0.125895 -0.008983  0.014724    2.69      0  \n",
              "2 -0.139097 -0.055353 -0.059752  378.66      0  \n",
              "3 -0.221929  0.062723  0.061458  123.50      0  \n",
              "4  0.502292  0.219422  0.215153   69.99      0  \n",
              "\n",
              "[5 rows x 31 columns]"
            ]
          },
          "execution_count": 2,
          "metadata": {},
          "output_type": "execute_result"
        }
      ],
      "source": [
        "df = pd.read_csv('C:/Users/Teja Tetali/OneDrive/Desktop/Project/dataset.csv')\n",
        "df.head()"
      ]
    },
    {
      "cell_type": "code",
      "execution_count": null,
      "metadata": {
        "id": "k0nUEwoDjl0I",
        "outputId": "2568fb34-6d1e-47a3-c581-8b5610e2970e"
      },
      "outputs": [
        {
          "data": {
            "text/plain": [
              "(284807, 31)"
            ]
          },
          "execution_count": 3,
          "metadata": {},
          "output_type": "execute_result"
        }
      ],
      "source": [
        "#observe the different feature type present in the data\n",
        "df.shape\n"
      ]
    },
    {
      "cell_type": "code",
      "execution_count": null,
      "metadata": {
        "id": "FIx2EBJTzRwQ",
        "outputId": "2f7014ae-c582-4371-8c55-f9bfb3a14610"
      },
      "outputs": [
        {
          "name": "stdout",
          "output_type": "stream",
          "text": [
            "<class 'pandas.core.frame.DataFrame'>\n",
            "RangeIndex: 284807 entries, 0 to 284806\n",
            "Data columns (total 31 columns):\n",
            " #   Column  Non-Null Count   Dtype  \n",
            "---  ------  --------------   -----  \n",
            " 0   Time    284807 non-null  float64\n",
            " 1   V1      284807 non-null  float64\n",
            " 2   V2      284807 non-null  float64\n",
            " 3   V3      284807 non-null  float64\n",
            " 4   V4      284807 non-null  float64\n",
            " 5   V5      284807 non-null  float64\n",
            " 6   V6      284807 non-null  float64\n",
            " 7   V7      284807 non-null  float64\n",
            " 8   V8      284807 non-null  float64\n",
            " 9   V9      284807 non-null  float64\n",
            " 10  V10     284807 non-null  float64\n",
            " 11  V11     284807 non-null  float64\n",
            " 12  V12     284807 non-null  float64\n",
            " 13  V13     284807 non-null  float64\n",
            " 14  V14     284807 non-null  float64\n",
            " 15  V15     284807 non-null  float64\n",
            " 16  V16     284807 non-null  float64\n",
            " 17  V17     284807 non-null  float64\n",
            " 18  V18     284807 non-null  float64\n",
            " 19  V19     284807 non-null  float64\n",
            " 20  V20     284807 non-null  float64\n",
            " 21  V21     284807 non-null  float64\n",
            " 22  V22     284807 non-null  float64\n",
            " 23  V23     284807 non-null  float64\n",
            " 24  V24     284807 non-null  float64\n",
            " 25  V25     284807 non-null  float64\n",
            " 26  V26     284807 non-null  float64\n",
            " 27  V27     284807 non-null  float64\n",
            " 28  V28     284807 non-null  float64\n",
            " 29  Amount  284807 non-null  float64\n",
            " 30  Class   284807 non-null  int64  \n",
            "dtypes: float64(30), int64(1)\n",
            "memory usage: 67.4 MB\n"
          ]
        }
      ],
      "source": [
        "df.info()"
      ]
    },
    {
      "cell_type": "markdown",
      "metadata": {
        "id": "x0p94Fs2ynJi"
      },
      "source": [
        "**Insight:**\n",
        "* Since the data is PCA transformed all features are expected tobe normally distributed. The data does not have any null value. Each feature has 284807 observations.\n",
        "* The datatype of the 'Class' variable is int. Since we know that the Class vaiable should be categorical (0: non fraud & 1:fraud), we must change the datatype."
      ]
    },
    {
      "cell_type": "code",
      "execution_count": null,
      "metadata": {
        "id": "GJazlUDLoLV7",
        "outputId": "d325cbd0-c708-4205-bb81-b4ca34c800a2"
      },
      "outputs": [
        {
          "data": {
            "text/plain": [
              "0         Non_Fraudulent\n",
              "1         Non_Fraudulent\n",
              "2         Non_Fraudulent\n",
              "3         Non_Fraudulent\n",
              "4         Non_Fraudulent\n",
              "               ...      \n",
              "284802    Non_Fraudulent\n",
              "284803    Non_Fraudulent\n",
              "284804    Non_Fraudulent\n",
              "284805    Non_Fraudulent\n",
              "284806    Non_Fraudulent\n",
              "Name: Class, Length: 284807, dtype: category\n",
              "Categories (2, object): ['Non_Fraudulent', 'Fraudulent']"
            ]
          },
          "execution_count": 5,
          "metadata": {},
          "output_type": "execute_result"
        }
      ],
      "source": [
        "#Changing the data type of Class\n",
        "\n",
        "df['Class'] = df['Class'].astype('category')\n",
        "\n",
        "#Renaming the classes\n",
        "df['Class'] = df['Class'].cat.rename_categories({1:'Fraudulent',0:'Non_Fraudulent'})\n",
        "\n",
        "df['Class']"
      ]
    },
    {
      "cell_type": "markdown",
      "metadata": {
        "id": "3WFLhAZ2jl0T"
      },
      "source": [
        "Here we will observe the distribution of our classes"
      ]
    },
    {
      "cell_type": "code",
      "execution_count": null,
      "metadata": {
        "id": "N47KyC95jl0U",
        "outputId": "bb88a403-9e21-44c7-e92b-54536309b3f3"
      },
      "outputs": [
        {
          "name": "stdout",
          "output_type": "stream",
          "text": [
            "99.82725143693798\n",
            "0.1727485630620034\n"
          ]
        }
      ],
      "source": [
        "classes=df['Class'].value_counts()\n",
        "normal_share=classes[0]/df['Class'].count()*100\n",
        "print(normal_share)\n",
        "fraud_share=classes[1]/df['Class'].count()*100\n",
        "print(fraud_share)"
      ]
    },
    {
      "cell_type": "code",
      "execution_count": null,
      "metadata": {
        "id": "Ix2lFO7BdSIP",
        "outputId": "8c522d27-6cd3-4dd3-e006-e770d261403f"
      },
      "outputs": [
        {
          "data": {
            "text/html": [
              "<div>\n",
              "<style scoped>\n",
              "    .dataframe tbody tr th:only-of-type {\n",
              "        vertical-align: middle;\n",
              "    }\n",
              "\n",
              "    .dataframe tbody tr th {\n",
              "        vertical-align: top;\n",
              "    }\n",
              "\n",
              "    .dataframe thead th {\n",
              "        text-align: right;\n",
              "    }\n",
              "</style>\n",
              "<table border=\"1\" class=\"dataframe\">\n",
              "  <thead>\n",
              "    <tr style=\"text-align: right;\">\n",
              "      <th></th>\n",
              "      <th>Class</th>\n",
              "      <th>Percentage</th>\n",
              "    </tr>\n",
              "  </thead>\n",
              "  <tbody>\n",
              "    <tr>\n",
              "      <th>0</th>\n",
              "      <td>fraudulent</td>\n",
              "      <td>0.172749</td>\n",
              "    </tr>\n",
              "    <tr>\n",
              "      <th>1</th>\n",
              "      <td>non_fraudulent</td>\n",
              "      <td>99.827251</td>\n",
              "    </tr>\n",
              "  </tbody>\n",
              "</table>\n",
              "</div>"
            ],
            "text/plain": [
              "            Class  Percentage\n",
              "0      fraudulent    0.172749\n",
              "1  non_fraudulent   99.827251"
            ]
          },
          "execution_count": 7,
          "metadata": {},
          "output_type": "execute_result"
        }
      ],
      "source": [
        "#Creating a df for percentage of each class\n",
        "class_share = {'Class':['fraudulent','non_fraudulent'],'Percentage':[fraud_share,normal_share]}\n",
        "class_share = pd.DataFrame(class_share)\n",
        "class_share.head()"
      ]
    },
    {
      "cell_type": "markdown",
      "metadata": {
        "id": "G9yHRubDz-5f"
      },
      "source": [
        "The data is imbalanced. Only 0.172% of total cases are positive. "
      ]
    },
    {
      "cell_type": "code",
      "execution_count": null,
      "metadata": {
        "id": "iAUppyW6jl0g",
        "outputId": "5d8b7610-b23c-4f4d-bf81-0a677d9c3c0d"
      },
      "outputs": [
        {
          "name": "stderr",
          "output_type": "stream",
          "text": [
            "C:\\Users\\Teja Tetali\\Anaconda\\lib\\site-packages\\seaborn\\_decorators.py:36: FutureWarning: Pass the following variable as a keyword arg: x. From version 0.12, the only valid positional argument will be `data`, and passing other arguments without an explicit keyword will result in an error or misinterpretation.\n",
            "  warnings.warn(\n"
          ]
        },
        {
          "data": {
            "image/png": "[encoded data removed]",
            "text/plain": [
              "<Figure size 1008x432 with 2 Axes>"
            ]
          },
          "metadata": {
            "needs_background": "light"
          },
          "output_type": "display_data"
        }
      ],
      "source": [
        "# Create a bar plot for the number and percentage of fraudulent vs non-fraudulent transcations\n",
        "sns.set_palette(\"muted\")\n",
        "plt.figure(figsize=(14,6))\n",
        "plt.subplot(121)\n",
        "sns.countplot('Class',data=df)\n",
        "plt.title('No. of fraudulent vs non-fraudulent')\n",
        "\n",
        "plt.subplot(122)\n",
        "sns.barplot(x='Class', y='Percentage',data=class_share)\n",
        "plt.title('% of fraudulent vs non-fraudulent')\n",
        "plt.show()\n"
      ]
    },
    {
      "cell_type": "markdown",
      "metadata": {
        "id": "_DKjrYHojQbf"
      },
      "source": [
        "The no. of fraudulent cases are quite insignificant compared to the non-fraudulent cases. This is a highly unbalnced dataset."
      ]
    },
    {
      "cell_type": "code",
      "execution_count": null,
      "metadata": {
        "id": "Wdqbx_Cjjl0u",
        "outputId": "ddc56319-f001-49a1-9f6b-6ff0b8cea710"
      },
      "outputs": [
        {
          "data": {
            "image/png": "[encoded data removed]",
            "text/plain": [
              "<Figure size 720x432 with 1 Axes>"
            ]
          },
          "metadata": {
            "needs_background": "light"
          },
          "output_type": "display_data"
        }
      ],
      "source": [
        "# Create a scatter plot to observe the distribution of classes with time\n",
        "#sns.set_palette(\"muted\")\n",
        "plt.figure(figsize=(10,6))\n",
        "sns.stripplot(x= 'Class', y= 'Time',data=df)\n",
        "plt.title('Distribution of Classes with Time\\n (0: Non-Fraudulent || 1: Fraudulent)')\n",
        "plt.show()"
      ]
    },
    {
      "cell_type": "markdown",
      "metadata": {
        "id": "x3O-L963lx8w"
      },
      "source": [
        "\n",
        "**Insight:**\n",
        "*   From the above plot we observe that there isn't any\n",
        "particular time interval at which fraudulent transactions happen. It can happen at any time. \n",
        "* The Time column is evenly distributed for fraudulent transactions and doesn't seem to have any role in deciding whether a transaction is fraud or not."
      ]
    },
    {
      "cell_type": "code",
      "execution_count": null,
      "metadata": {
        "id": "48X_3Y-njl03",
        "outputId": "3faf4a3d-045c-4cc5-d818-3e3007eb6fe2"
      },
      "outputs": [
        {
          "data": {
            "image/png": "[encoded data removed]",
            "text/plain": [
              "<Figure size 720x432 with 1 Axes>"
            ]
          },
          "metadata": {
            "needs_background": "light"
          },
          "output_type": "display_data"
        }
      ],
      "source": [
        "# Create a scatter plot to observe the distribution of classes with Amount\n",
        "plt.figure(figsize=(10,6))\n",
        "sns.stripplot(x= 'Class', y= 'Amount',data=df)\n",
        "plt.title('Distribution of Classes with Amount\\n (0: Non-Fraudulent || 1: Fraudulent)')\n",
        "plt.show()"
      ]
    },
    {
      "cell_type": "markdown",
      "metadata": {
        "id": "xATsDbyQnBGH"
      },
      "source": [
        "**Insight:** \n",
        "\n",
        "*   The fraudulent transactions do not have any high amount transactions. The maximum amount for a fraudulent transaction is somewhere around $2500. \n",
        " \n",
        "\n"
      ]
    },
    {
      "cell_type": "code",
      "execution_count": null,
      "metadata": {
        "id": "DZFTURqajl1B",
        "outputId": "7696e90a-46a0-4342-ccb4-5bff18efe782"
      },
      "outputs": [
        {
          "data": {
            "text/plain": [
              "(284807, 30)"
            ]
          },
          "execution_count": 11,
          "metadata": {},
          "output_type": "execute_result"
        }
      ],
      "source": [
        "# Drop unnecessary columns\n",
        "# Dropping the column 'Time' since it does not have any impact on deciding a fraud transaction\n",
        "\n",
        "df=df.drop('Time',axis=1)\n",
        "df.shape"
      ]
    },
    {
      "cell_type": "code",
      "execution_count": null,
      "metadata": {
        "scrolled": false,
        "id": "J1JlFDQtEQp_",
        "outputId": "e156f809-21f7-4d65-8846-67147c344142"
      },
      "outputs": [
        {
          "data": {
            "image/png": "[encoded data removed]",
            "text/plain": [
              "<Figure size 1152x864 with 2 Axes>"
            ]
          },
          "metadata": {
            "needs_background": "light"
          },
          "output_type": "display_data"
        }
      ],
      "source": [
        "#Plotting heatmap to check the coorelation\n",
        "\n",
        "plt.figure(figsize=(16,12))\n",
        "\n",
        "sns.heatmap(df.corr(),linewidths=0.5,cmap='YlGnBu')\n",
        "\n",
        "plt.show()"
      ]
    },
    {
      "cell_type": "markdown",
      "metadata": {
        "id": "jUQ6IwCYEQp_"
      },
      "source": [
        "* V7 and V20 seem to have positive correlation with the feature 'Amount'. Since this is a PCA converted data, there isn't much to conclude from the heatmap."
      ]
    },
    {
      "cell_type": "markdown",
      "metadata": {
        "id": "u2eqmaGgjl1J"
      },
      "source": [
        "### Splitting the data into train & test data"
      ]
    },
    {
      "cell_type": "code",
      "execution_count": null,
      "metadata": {
        "id": "lVQV8d3wjl1K"
      },
      "outputs": [],
      "source": [
        "y= df.iloc[:,-1] #class variable\n",
        "X = df.iloc[:,:-1]\n"
      ]
    },
    {
      "cell_type": "code",
      "execution_count": null,
      "metadata": {
        "id": "pQzf31P3jl1U"
      },
      "outputs": [],
      "source": [
        "from sklearn import model_selection\n",
        "from sklearn.model_selection import train_test_split\n",
        "\n",
        "X_train, X_test, y_train, y_test = train_test_split(X,y,test_size=0.2,random_state=0,stratify=y)\n",
        "\n",
        "#Using stratify=y so that proportion of each class is same in both train and test set"
      ]
    },
    {
      "cell_type": "markdown",
      "metadata": {
        "id": "eQRwcxpyjl1b"
      },
      "source": [
        "##### Preserve X_test & y_test to evaluate on the test data once you build the model"
      ]
    },
    {
      "cell_type": "code",
      "execution_count": null,
      "metadata": {
        "id": "gwbOp0S3jl1d",
        "outputId": "90a40952-5507-4e23-c0a4-2fe71c2384ef"
      },
      "outputs": [
        {
          "name": "stdout",
          "output_type": "stream",
          "text": [
            "Total count for each class:\n",
            " Non_Fraudulent    284315\n",
            "Fraudulent           492\n",
            "Name: Class, dtype: int64\n",
            "\n",
            "Count of each class in train data:\n",
            " Non_Fraudulent    227451\n",
            "Fraudulent           394\n",
            "Name: Class, dtype: int64\n",
            "\n",
            "Count of each class in test data:\n",
            " Non_Fraudulent    56864\n",
            "Fraudulent           98\n",
            "Name: Class, dtype: int64\n"
          ]
        }
      ],
      "source": [
        "print('Total count for each class:\\n', y.value_counts())\n",
        "print(\"\\nCount of each class in train data:\\n\",y_train.value_counts())\n",
        "print(\"\\nCount of each class in test data:\\n\",y_test.value_counts())"
      ]
    },
    {
      "cell_type": "markdown",
      "metadata": {
        "id": "WvOJ1oC0jl1y"
      },
      "source": [
        "### If there is skewness present in the distribution use:\n",
        "- <b>Power Transformer</b> package present in the <b>preprocessing library provided by sklearn</b> to make distribution more gaussian"
      ]
    },
    {
      "cell_type": "code",
      "execution_count": null,
      "metadata": {
        "id": "F3jGkJFTjl1z"
      },
      "outputs": [],
      "source": [
        "# - Apply : preprocessing.PowerTransformer(copy=False) to fit & transform the train & test data\n",
        "# Using ‘yeo-johnson’ method since it works with positive and negative values. It is used to improve normality or symmetry\n",
        "\n",
        "\n",
        "from sklearn.preprocessing import power_transform\n",
        "\n",
        "X_train = power_transform(X_train,method='yeo-johnson')\n",
        "X_test = power_transform(X_test,method='yeo-johnson')"
      ]
    },
    {
      "cell_type": "code",
      "execution_count": null,
      "metadata": {
        "id": "-R0jPvv5U2OJ"
      },
      "outputs": [],
      "source": [
        "# Converting X_train & X_test back to dataframe\n",
        "cols = X.columns\n",
        "\n",
        "X_train = pd.DataFrame(X_train)\n",
        "X_train.columns = cols\n",
        "\n",
        "X_test = pd.DataFrame(X_test)\n",
        "X_test.columns = cols\n"
      ]
    },
    {
      "cell_type": "markdown",
      "metadata": {
        "id": "OatGtl72g2Nc"
      },
      "source": [
        "### **Model performance parameter:**\n",
        "\n",
        "\n",
        "*   We will use ROC curve and find AUC Score as the performance matrix for the models.\n",
        "*  ROC curve meausres the performance of the model at different thresholds which will help us find the optimum threshold for the model.\n",
        "\n"
      ]
    },
    {
      "cell_type": "code",
      "execution_count": null,
      "metadata": {
        "id": "VzZ0JuWQgqlK"
      },
      "outputs": [],
      "source": [
        "# Function to plot ROC curve and classification score which will be used for each model\n",
        "\n",
        "from sklearn.metrics import roc_curve\n",
        "from sklearn.metrics import roc_auc_score\n",
        "from sklearn.metrics import classification_report\n",
        "\n",
        "def plot_roc(fpr,tpr):\n",
        "    plt.plot(fpr, tpr, color='green', label='ROC')\n",
        "    plt.plot([0, 1], [0, 1], color='yellow', linestyle='--')\n",
        "    plt.title(\"Receiver Operating Characteristic (ROC) Curve\")\n",
        "    plt.xlabel(\"False Positive Rate\")\n",
        "    plt.ylabel(\"True Positive Rate\")\n",
        "    plt.legend()\n",
        "    plt.show()\n",
        "\n",
        "def clf_score(clf):\n",
        "    prob = clf.predict_proba(X_test)\n",
        "    prob = prob[:, 1]\n",
        "    auc = roc_auc_score(y_test, prob)    \n",
        "    print('AUC: %.2f' % auc)\n",
        "    fpr, tpr, thresholds = roc_curve(y_test,prob, pos_label='Non_Fraudulent')\n",
        "    plot_roc(fpr,tpr)\n",
        "    predicted=clf.predict(X_test)\n",
        "    report = classification_report(y_test, predicted)\n",
        "    print(report)\n",
        "    return auc\n"
      ]
    },
    {
      "cell_type": "markdown",
      "metadata": {
        "id": "jwV_HSm2jl2E"
      },
      "source": [
        "## Model Building on the imbalanced dataset\n"
      ]
    },
    {
      "cell_type": "markdown",
      "metadata": {
        "id": "lsancbplnppt"
      },
      "source": [
        "**Note**:\n",
        "- Due to time constraint we have choosen few parameters to tune in each model.\n",
        "\n",
        "- For cross validation, GridsearchCV and Stratified Kfold (cross_val_score) has been used."
      ]
    },
    {
      "cell_type": "markdown",
      "metadata": {
        "id": "sQ9SNzaFBE28"
      },
      "source": [
        "### Logistic Regression"
      ]
    },
    {
      "cell_type": "code",
      "execution_count": null,
      "metadata": {
        "id": "Rm1WzEe0jl2F",
        "scrolled": false
      },
      "outputs": [],
      "source": [
        "# Logistic Regression\n",
        "from sklearn import linear_model\n",
        "from sklearn.linear_model import LogisticRegression #import the package\n",
        "from sklearn.model_selection import GridSearchCV\n"
      ]
    },
    {
      "cell_type": "code",
      "execution_count": null,
      "metadata": {
        "id": "KQOZRmRgujyq",
        "outputId": "8a488b2f-4f8c-4dd2-9572-1739eb8458dc"
      },
      "outputs": [
        {
          "name": "stdout",
          "output_type": "stream",
          "text": [
            "C: 0.001\n",
            "Coefficient of each feature: [[ 0.05827245 -0.03231278  0.15258413 -0.2303827  -0.03251785  0.04418223\n",
            "   0.06092596  0.1053219   0.11901376  0.23577848 -0.17897772  0.23620764\n",
            "   0.0429589   0.40046756  0.01684527  0.118289    0.11039617  0.00086577\n",
            "   0.00221737 -0.01263307 -0.02883974 -0.03215089  0.03304381  0.02416244\n",
            "   0.00155655 -0.01639013 -0.00758294  0.00107762  0.01629961]]\n",
            "Training accuracy: 0.9990344313019817\n",
            "Test accuracy: 0.9988939995084443\n",
            "\n",
            "C: 0.01\n",
            "Coefficient of each feature: [[ 0.15546705  0.08584789  0.26579153 -0.5753725  -0.01738138 -0.03487857\n",
            "   0.11891721  0.19132465  0.16632621  0.22402918 -0.16014372  0.44675414\n",
            "   0.14777179  0.65203773  0.11114447  0.20586739  0.02118281 -0.0613255\n",
            "   0.05790786  0.00283988 -0.04986379 -0.1719924   0.0859131  -0.00722106\n",
            "  -0.04617946 -0.0330326   0.05303883  0.03400267 -0.00360083]]\n",
            "Training accuracy: 0.999223156092958\n",
            "Test accuracy: 0.9990695551420246\n",
            "\n",
            "C: 0.1\n",
            "Coefficient of each feature: [[ 0.21452937  0.22263954  0.35659838 -0.77616681  0.05704639 -0.1076961\n",
            "   0.20670015  0.21259381  0.18094109  0.14631574 -0.0577879   0.57762649\n",
            "   0.25785255  0.75724518  0.18432044  0.36065217 -0.06318882 -0.12004593\n",
            "   0.1329012   0.01987346 -0.11356535 -0.38257787  0.11741847 -0.06502005\n",
            "  -0.13074715  0.01046185  0.0553345   0.04873363  0.05109468]]\n",
            "Training accuracy: 0.9992407118874673\n",
            "Test accuracy: 0.9991748885221726\n",
            "\n",
            "C: 1\n",
            "Coefficient of each feature: [[ 0.22455092  0.25739208  0.38024371 -0.81040858  0.07913124 -0.12313501\n",
            "   0.22766916  0.21524185  0.18899129  0.12517782 -0.03432451  0.60686362\n",
            "   0.28047294  0.78065413  0.19497536  0.40156049 -0.08405048 -0.13733415\n",
            "   0.15239102  0.02420994 -0.13260883 -0.44504562  0.12764735 -0.07886463\n",
            "  -0.15368167  0.03228937  0.05381167  0.05218064  0.07333522]]\n",
            "Training accuracy: 0.9992538787333495\n",
            "Test accuracy: 0.9991924440855307\n",
            "\n",
            "C: 10\n",
            "Coefficient of each feature: [[ 0.22562996  0.26147336  0.38299298 -0.8141864   0.08178189 -0.12493197\n",
            "   0.23008995  0.21551022  0.19013099  0.12266904 -0.03167124  0.61021052\n",
            "   0.28299336  0.78345258  0.19604903  0.40629762 -0.08645191 -0.13943983\n",
            "   0.15469369  0.02472908 -0.13493889 -0.45259569  0.12892876 -0.080436\n",
            "  -0.15640385  0.03501977  0.05360858  0.05256928  0.0760692 ]]\n",
            "Training accuracy: 0.9992538787333495\n",
            "Test accuracy: 0.9991924440855307\n",
            "\n",
            "C: 100\n",
            "Coefficient of each feature: [[ 0.22574652  0.2619412   0.38325563 -0.81450376  0.08204376 -0.12509094\n",
            "   0.23037076  0.21551213  0.19029194  0.12238587 -0.03140081  0.61056458\n",
            "   0.28322065  0.78371061  0.19615106  0.4067304  -0.08670568 -0.13961503\n",
            "   0.15486942  0.02475496 -0.13513041 -0.45330742  0.1290139  -0.08057909\n",
            "  -0.15666674  0.0353078   0.05358771  0.05260681  0.07634483]]\n",
            "Training accuracy: 0.9992538787333495\n",
            "Test accuracy: 0.9991924440855307\n",
            "\n"
          ]
        }
      ],
      "source": [
        "num_C = [0.001,0.01,0.1,1,10,100] #--> list of values\n",
        "\n",
        "for cv_num in num_C:\n",
        "  clf = LogisticRegression(penalty='l2',C=cv_num,random_state = 0)\n",
        "  clf.fit(X_train, y_train)\n",
        "  print('C:', cv_num)\n",
        "  print('Coefficient of each feature:', clf.coef_)\n",
        "  print('Training accuracy:', clf.score(X_train, y_train))\n",
        "  print('Test accuracy:', clf.score(X_test, y_test))\n",
        "  print('')"
      ]
    },
    {
      "cell_type": "markdown",
      "metadata": {
        "id": "_iFQrcjHlM8Q"
      },
      "source": [
        "\n",
        "\n",
        "*   The best C value is the one for which the difference between train and test score is the least.\n",
        "*   In our case the best value of C=0.1\n",
        "\n"
      ]
    },
    {
      "cell_type": "code",
      "execution_count": null,
      "metadata": {
        "id": "GzsfcAt3jl2U",
        "outputId": "64129b08-3113-41a0-e4d3-70208c5d00a3"
      },
      "outputs": [
        {
          "name": "stdout",
          "output_type": "stream",
          "text": [
            "tuned hpyerparameters :(best parameters)  {'C': 0.01, 'penalty': 'l2'}\n",
            "accuracy : 0.9803975962273005\n"
          ]
        }
      ],
      "source": [
        "#perform cross validation\n",
        "\n",
        "grid={\"C\":np.logspace(-3,3,7), \"penalty\":[\"l2\"]}  # l2 ridge\n",
        "\n",
        "lsr = LogisticRegression()\n",
        "clf_lsr_cv = GridSearchCV(lsr,grid,cv=3,scoring='roc_auc')\n",
        "clf_lsr_cv.fit(X_train,y_train)\n",
        "\n",
        "print(\"tuned hpyerparameters :(best parameters) \",clf_lsr_cv.best_params_)\n",
        "print(\"accuracy :\",clf_lsr_cv.best_score_)\n",
        "\n",
        "#perform hyperparameter tuning\n",
        "\n",
        "\n",
        "\n",
        "#print the optimum value of hyperparameters"
      ]
    },
    {
      "cell_type": "markdown",
      "metadata": {
        "id": "OQQfqwIQr7Hq"
      },
      "source": [
        "\n",
        "\n",
        "*   Best parameters :  {'C': 0.01, 'penalty': 'l2'}\n",
        "\n",
        "\n"
      ]
    },
    {
      "cell_type": "code",
      "execution_count": null,
      "metadata": {
        "id": "mkyw5QNAsDx7",
        "outputId": "adb59f8b-1049-44b5-f574-be6fa397b122"
      },
      "outputs": [
        {
          "name": "stdout",
          "output_type": "stream",
          "text": [
            "AUC: 0.98\n"
          ]
        },
        {
          "data": {
            "image/png": "[encoded data removed]",
            "text/plain": [
              "<Figure size 432x288 with 1 Axes>"
            ]
          },
          "metadata": {
            "needs_background": "light"
          },
          "output_type": "display_data"
        },
        {
          "name": "stdout",
          "output_type": "stream",
          "text": [
            "                precision    recall  f1-score   support\n",
            "\n",
            "    Fraudulent       0.87      0.54      0.67        98\n",
            "Non_Fraudulent       1.00      1.00      1.00     56864\n",
            "\n",
            "      accuracy                           1.00     56962\n",
            "     macro avg       0.93      0.77      0.83     56962\n",
            "  weighted avg       1.00      1.00      1.00     56962\n",
            "\n"
          ]
        },
        {
          "data": {
            "text/plain": [
              "0.9799370930139079"
            ]
          },
          "execution_count": 22,
          "metadata": {},
          "output_type": "execute_result"
        }
      ],
      "source": [
        "# Fitting the model with best parameters .\n",
        "\n",
        "lsr_best = LogisticRegression(penalty='l2',C=0.01,random_state = 0)\n",
        "lsr_clf = lsr_best.fit(X_train,y_train)\n",
        "clf_score(lsr_clf)"
      ]
    },
    {
      "cell_type": "markdown",
      "metadata": {
        "id": "oy5Rt6TR-Atu"
      },
      "source": [
        "\n",
        "\n",
        "*   The AUC score is 0.98 but the data is clearly overfitting due to the imbalanced data.\n",
        "\n",
        "\n"
      ]
    },
    {
      "cell_type": "markdown",
      "metadata": {
        "id": "i6vVOjczBlRo"
      },
      "source": [
        "### KNN"
      ]
    },
    {
      "cell_type": "code",
      "execution_count": null,
      "metadata": {
        "id": "1sPuZ5VZBvJ9",
        "outputId": "772673e6-0389-4827-8387-b2af4722e893"
      },
      "outputs": [
        {
          "data": {
            "text/plain": [
              "array([ 1,  3,  5,  7,  9, 11, 13, 15, 17, 19])"
            ]
          },
          "execution_count": 23,
          "metadata": {},
          "output_type": "execute_result"
        }
      ],
      "source": [
        "#K-Nearest Neighbor\n",
        "from sklearn.neighbors import KNeighborsClassifier\n",
        "from sklearn.model_selection  import cross_val_score\n",
        "from sklearn.metrics import accuracy_score, mean_squared_error\n",
        "\n",
        "# Taking only odd integers as K values to apply the majority rule. \n",
        "k_range = np.arange(1, 20, 2)\n",
        "scores = [] #to store cross val score for each k\n",
        "k_range"
      ]
    },
    {
      "cell_type": "code",
      "execution_count": null,
      "metadata": {
        "id": "FAeK0FcXPcye",
        "outputId": "6ead3464-96ff-4a8e-d8cd-32d7295be5c7"
      },
      "outputs": [
        {
          "data": {
            "text/plain": [
              "KNeighborsClassifier()"
            ]
          },
          "execution_count": 24,
          "metadata": {},
          "output_type": "execute_result"
        }
      ],
      "source": [
        "# Finding the best k with stratified K-fold method. \n",
        "# We will use cv=3 in cross_val_score to specify the number of folds in the (Stratified)KFold.\n",
        "from sklearn.model_selection import StratifiedKFold\n",
        "#skfold=StratifiedKFold(n_splits=5)\n",
        "model=KNeighborsClassifier()\n",
        "model.fit(X_train,y_train)\n",
        "#scores=cross_val_score(model,X,y,cv=skfold)\n",
        "#print(scores)"
      ]
    },
    {
      "cell_type": "code",
      "execution_count": null,
      "metadata": {
        "id": "PkD52nMPEQqE"
      },
      "outputs": [],
      "source": [
        "y_pred=model.predict(X_test)"
      ]
    },
    {
      "cell_type": "code",
      "execution_count": null,
      "metadata": {
        "id": "glgropFjEQqE",
        "outputId": "74d10c61-4348-4c08-c24b-2986c97000cd"
      },
      "outputs": [
        {
          "data": {
            "text/plain": [
              "0.9995084442259752"
            ]
          },
          "execution_count": 26,
          "metadata": {},
          "output_type": "execute_result"
        }
      ],
      "source": [
        "metrics.accuracy_score(y_pred,y_test)"
      ]
    },
    {
      "cell_type": "code",
      "execution_count": null,
      "metadata": {
        "id": "7n6__Mtmch2M"
      },
      "outputs": [],
      "source": [
        "#Fitting the best parameter to the model\n",
        "# 3 fold cross validation with K=3\n",
        "\n",
        "knn = KNeighborsClassifier(n_neighbors=3)\n",
        "\n",
        "knn_clf = knn.fit(X_train,y_train)\n",
        "\n"
      ]
    },
    {
      "cell_type": "code",
      "execution_count": null,
      "metadata": {
        "id": "6fHGzmldrzDE",
        "outputId": "9327e915-1724-4bce-b72e-f5ea487f7680"
      },
      "outputs": [
        {
          "name": "stdout",
          "output_type": "stream",
          "text": [
            "AUC: 0.94\n"
          ]
        },
        {
          "data": {
            "image/png": "[encoded data removed]",
            "text/plain": [
              "<Figure size 432x288 with 1 Axes>"
            ]
          },
          "metadata": {
            "needs_background": "light"
          },
          "output_type": "display_data"
        },
        {
          "name": "stdout",
          "output_type": "stream",
          "text": [
            "                precision    recall  f1-score   support\n",
            "\n",
            "    Fraudulent       0.96      0.77      0.85        98\n",
            "Non_Fraudulent       1.00      1.00      1.00     56864\n",
            "\n",
            "      accuracy                           1.00     56962\n",
            "     macro avg       0.98      0.88      0.93     56962\n",
            "  weighted avg       1.00      1.00      1.00     56962\n",
            "\n"
          ]
        },
        {
          "data": {
            "text/plain": [
              "0.938721047999954"
            ]
          },
          "execution_count": 28,
          "metadata": {},
          "output_type": "execute_result"
        }
      ],
      "source": [
        "# Checking AUC \n",
        "\n",
        "clf_score(knn_clf)\n"
      ]
    },
    {
      "cell_type": "markdown",
      "metadata": {
        "id": "CYqhQXej7GmI"
      },
      "source": [
        "* The KNN model with imbalanced data gives AUC of 0.94  which is pretty good but recall is 0.77 which is the score we should look to improve in this case."
      ]
    },
    {
      "cell_type": "markdown",
      "metadata": {
        "id": "eE9fvDiK9wKz"
      },
      "source": [
        "### Decision Tree"
      ]
    },
    {
      "cell_type": "code",
      "execution_count": null,
      "metadata": {
        "id": "MnrrMtk1-PaM"
      },
      "outputs": [],
      "source": [
        "#importing libraries\n",
        "\n",
        "from sklearn import tree\n",
        "from pprint import pprint\n",
        "clf = tree.DecisionTreeClassifier()"
      ]
    },
    {
      "cell_type": "code",
      "execution_count": null,
      "metadata": {
        "id": "Hw8awTZWBuvR",
        "outputId": "408bc70a-4fae-4105-89fc-283927f5d2c7"
      },
      "outputs": [
        {
          "data": {
            "text/plain": [
              "DecisionTreeClassifier()"
            ]
          },
          "execution_count": 30,
          "metadata": {},
          "output_type": "execute_result"
        }
      ],
      "source": [
        "clf.fit(X_train,y_train)\n",
        "\n",
        "# score_tree = cross_val_score(estimator=clf, X=X_train, y=y_train, cv=5, n_jobs=-1)\n",
        "# depth_score.append(score_tree.mean())\n",
        "# print(depth_score)"
      ]
    },
    {
      "cell_type": "code",
      "execution_count": null,
      "metadata": {
        "id": "BOkZq5pPEQqF",
        "outputId": "eb43fafa-46d6-44d3-e6df-1777c3e53147"
      },
      "outputs": [
        {
          "data": {
            "text/plain": [
              "25"
            ]
          },
          "execution_count": 31,
          "metadata": {},
          "output_type": "execute_result"
        }
      ],
      "source": [
        "clf.tree_.max_depth"
      ]
    },
    {
      "cell_type": "code",
      "execution_count": null,
      "metadata": {
        "id": "U3QSF1PyEQqF"
      },
      "outputs": [],
      "source": [
        "Y_pred=clf.predict(X_test)"
      ]
    },
    {
      "cell_type": "code",
      "execution_count": null,
      "metadata": {
        "id": "LIgEqWw6EQqF",
        "outputId": "fdbe985d-22cd-46e4-85e6-0ec9417f2e82"
      },
      "outputs": [
        {
          "data": {
            "text/plain": [
              "array(['Non_Fraudulent', 'Non_Fraudulent', 'Non_Fraudulent', ...,\n",
              "       'Non_Fraudulent', 'Non_Fraudulent', 'Non_Fraudulent'], dtype=object)"
            ]
          },
          "execution_count": 33,
          "metadata": {},
          "output_type": "execute_result"
        }
      ],
      "source": [
        "Y_pred"
      ]
    },
    {
      "cell_type": "code",
      "execution_count": null,
      "metadata": {
        "id": "oUYr0AP5EQqF",
        "outputId": "06d42df4-746f-4890-9375-340d4e3e24b5"
      },
      "outputs": [
        {
          "data": {
            "text/plain": [
              "0.9991222218320986"
            ]
          },
          "execution_count": 34,
          "metadata": {},
          "output_type": "execute_result"
        }
      ],
      "source": [
        "metrics.accuracy_score(Y_pred,y_test)"
      ]
    },
    {
      "cell_type": "code",
      "execution_count": null,
      "metadata": {
        "id": "MgjgyW7vEQqG",
        "outputId": "a331fd77-5a32-408d-ba32-3075a4a24068"
      },
      "outputs": [
        {
          "name": "stdout",
          "output_type": "stream",
          "text": [
            "AUC: 0.86\n"
          ]
        },
        {
          "data": {
            "image/png": "[encoded data removed]",
            "text/plain": [
              "<Figure size 432x288 with 1 Axes>"
            ]
          },
          "metadata": {
            "needs_background": "light"
          },
          "output_type": "display_data"
        },
        {
          "name": "stdout",
          "output_type": "stream",
          "text": [
            "                precision    recall  f1-score   support\n",
            "\n",
            "    Fraudulent       0.76      0.72      0.74        98\n",
            "Non_Fraudulent       1.00      1.00      1.00     56864\n",
            "\n",
            "      accuracy                           1.00     56962\n",
            "     macro avg       0.88      0.86      0.87     56962\n",
            "  weighted avg       1.00      1.00      1.00     56962\n",
            "\n"
          ]
        },
        {
          "data": {
            "text/plain": [
              "0.862042661043033"
            ]
          },
          "execution_count": 35,
          "metadata": {},
          "output_type": "execute_result"
        }
      ],
      "source": [
        "clf_score(clf)"
      ]
    },
    {
      "cell_type": "markdown",
      "metadata": {
        "id": "OKe9ZgjrEQqG"
      },
      "source": [
        "### Random Forest "
      ]
    },
    {
      "cell_type": "code",
      "execution_count": null,
      "metadata": {
        "id": "OLV0z5DzEQqG"
      },
      "outputs": [],
      "source": [
        "from sklearn.ensemble import RandomForestClassifier\n",
        "r_clf=RandomForestClassifier()"
      ]
    },
    {
      "cell_type": "code",
      "execution_count": null,
      "metadata": {
        "id": "eTetE1PAEQqG",
        "outputId": "9dc8b06a-d5eb-42d3-9a40-6163682a5632"
      },
      "outputs": [
        {
          "data": {
            "text/plain": [
              "RandomForestClassifier()"
            ]
          },
          "execution_count": 37,
          "metadata": {},
          "output_type": "execute_result"
        }
      ],
      "source": [
        "r_clf.fit(X_train,y_train)"
      ]
    },
    {
      "cell_type": "code",
      "execution_count": null,
      "metadata": {
        "id": "Yc2yYmNhEQqG"
      },
      "outputs": [],
      "source": [
        "Y_pred=r_clf.predict(X_test)"
      ]
    },
    {
      "cell_type": "code",
      "execution_count": null,
      "metadata": {
        "id": "W9OomTc4EQqG",
        "outputId": "7b678b08-5c98-4c83-fcb4-52ed807a38db"
      },
      "outputs": [
        {
          "data": {
            "text/plain": [
              "0.9995611109160493"
            ]
          },
          "execution_count": 39,
          "metadata": {},
          "output_type": "execute_result"
        }
      ],
      "source": [
        "metrics.accuracy_score(Y_pred,y_test)"
      ]
    },
    {
      "cell_type": "code",
      "execution_count": null,
      "metadata": {
        "id": "vR9dVbQ5EQqH",
        "outputId": "2d76332c-0d83-41fd-dbb7-bba279420c55"
      },
      "outputs": [
        {
          "name": "stdout",
          "output_type": "stream",
          "text": [
            "AUC: 0.96\n"
          ]
        },
        {
          "data": {
            "image/png": "[encoded data removed]",
            "text/plain": [
              "<Figure size 432x288 with 1 Axes>"
            ]
          },
          "metadata": {
            "needs_background": "light"
          },
          "output_type": "display_data"
        },
        {
          "name": "stdout",
          "output_type": "stream",
          "text": [
            "                precision    recall  f1-score   support\n",
            "\n",
            "    Fraudulent       0.99      0.76      0.86        98\n",
            "Non_Fraudulent       1.00      1.00      1.00     56864\n",
            "\n",
            "      accuracy                           1.00     56962\n",
            "     macro avg       0.99      0.88      0.93     56962\n",
            "  weighted avg       1.00      1.00      1.00     56962\n",
            "\n"
          ]
        },
        {
          "data": {
            "text/plain": [
              "0.9577908945654796"
            ]
          },
          "execution_count": 40,
          "metadata": {},
          "output_type": "execute_result"
        }
      ],
      "source": [
        "clf_score(r_clf)"
      ]
    },
    {
      "cell_type": "markdown",
      "metadata": {
        "id": "ui1SnGMpEQqH"
      },
      "source": [
        "### XgBoost"
      ]
    },
    {
      "cell_type": "code",
      "execution_count": null,
      "metadata": {
        "id": "Z-ijAnhrEQqH"
      },
      "outputs": [],
      "source": [
        "from xgboost import XGBClassifier\n",
        "x_clf=XGBClassifier()"
      ]
    },
    {
      "cell_type": "code",
      "execution_count": null,
      "metadata": {
        "id": "73ldvXV7EQqH",
        "outputId": "c79ea450-6f7f-4550-d285-30b3e47ca661"
      },
      "outputs": [
        {
          "name": "stderr",
          "output_type": "stream",
          "text": [
            "C:\\Users\\Teja Tetali\\Anaconda\\lib\\site-packages\\xgboost\\sklearn.py:1224: UserWarning: The use of label encoder in XGBClassifier is deprecated and will be removed in a future release. To remove this warning, do the following: 1) Pass option use_label_encoder=False when constructing XGBClassifier object; and 2) Encode your labels (y) as integers starting with 0, i.e. 0, 1, 2, ..., [num_class - 1].\n",
            "  warnings.warn(label_encoder_deprecation_msg, UserWarning)\n"
          ]
        },
        {
          "name": "stdout",
          "output_type": "stream",
          "text": [
            "[09:51:17] WARNING: C:/Users/Administrator/workspace/xgboost-win64_release_1.5.1/src/learner.cc:1115: Starting in XGBoost 1.3.0, the default evaluation metric used with the objective 'binary:logistic' was changed from 'error' to 'logloss'. Explicitly set eval_metric if you'd like to restore the old behavior.\n"
          ]
        },
        {
          "data": {
            "text/plain": [
              "XGBClassifier(base_score=0.5, booster='gbtree', colsample_bylevel=1,\n",
              "              colsample_bynode=1, colsample_bytree=1, enable_categorical=False,\n",
              "              gamma=0, gpu_id=-1, importance_type=None,\n",
              "              interaction_constraints='', learning_rate=0.300000012,\n",
              "              max_delta_step=0, max_depth=6, min_child_weight=1, missing=nan,\n",
              "              monotone_constraints='()', n_estimators=100, n_jobs=8,\n",
              "              num_parallel_tree=1, predictor='auto', random_state=0,\n",
              "              reg_alpha=0, reg_lambda=1, scale_pos_weight=1, subsample=1,\n",
              "              tree_method='exact', validate_parameters=1, verbosity=None)"
            ]
          },
          "execution_count": 42,
          "metadata": {},
          "output_type": "execute_result"
        }
      ],
      "source": [
        "x_clf.fit(X_train,y_train)"
      ]
    },
    {
      "cell_type": "code",
      "execution_count": null,
      "metadata": {
        "id": "es4UBqJ_EQqH"
      },
      "outputs": [],
      "source": [
        "Y_pred=x_clf.predict(X_test)"
      ]
    },
    {
      "cell_type": "code",
      "execution_count": null,
      "metadata": {
        "id": "hgaTyxr2EQqH",
        "outputId": "824497c1-46af-44da-c4f4-fb1a09fe6e03"
      },
      "outputs": [
        {
          "data": {
            "text/plain": [
              "0.9995786664794073"
            ]
          },
          "execution_count": 44,
          "metadata": {},
          "output_type": "execute_result"
        }
      ],
      "source": [
        "metrics.accuracy_score(Y_pred,y_test)"
      ]
    },
    {
      "cell_type": "code",
      "execution_count": null,
      "metadata": {
        "id": "8ZAmHGS-EQqI",
        "outputId": "ba199e22-a5f9-4244-ef25-d485fd6c86d6"
      },
      "outputs": [
        {
          "name": "stdout",
          "output_type": "stream",
          "text": [
            "AUC: 0.98\n"
          ]
        },
        {
          "data": {
            "image/png": "[encoded data removed]",
            "text/plain": [
              "<Figure size 432x288 with 1 Axes>"
            ]
          },
          "metadata": {
            "needs_background": "light"
          },
          "output_type": "display_data"
        },
        {
          "name": "stdout",
          "output_type": "stream",
          "text": [
            "                precision    recall  f1-score   support\n",
            "\n",
            "    Fraudulent       0.99      0.77      0.86        98\n",
            "Non_Fraudulent       1.00      1.00      1.00     56864\n",
            "\n",
            "      accuracy                           1.00     56962\n",
            "     macro avg       0.99      0.88      0.93     56962\n",
            "  weighted avg       1.00      1.00      1.00     56962\n",
            "\n"
          ]
        },
        {
          "data": {
            "text/plain": [
              "0.9767572898602321"
            ]
          },
          "execution_count": 45,
          "metadata": {},
          "output_type": "execute_result"
        }
      ],
      "source": [
        "clf_score(x_clf)"
      ]
    },
    {
      "cell_type": "markdown",
      "metadata": {
        "id": "IJkUVF03EQqI"
      },
      "source": [
        "### Handling class imbalance"
      ]
    },
    {
      "cell_type": "code",
      "execution_count": null,
      "metadata": {
        "id": "-hMdOJJZEQqI"
      },
      "outputs": [],
      "source": [
        "from imblearn.over_sampling import *"
      ]
    },
    {
      "cell_type": "markdown",
      "metadata": {
        "id": "pzW_VwRQEQqI"
      },
      "source": [
        "#### SMOTE"
      ]
    },
    {
      "cell_type": "code",
      "execution_count": null,
      "metadata": {
        "id": "9qUSfSwTEQqI"
      },
      "outputs": [],
      "source": [
        "sm=SMOTE()"
      ]
    },
    {
      "cell_type": "code",
      "execution_count": null,
      "metadata": {
        "id": "lLx0hiF3EQqI"
      },
      "outputs": [],
      "source": [
        "X_sm, y_sm= sm.fit_resample(X_train,y_train)"
      ]
    },
    {
      "cell_type": "code",
      "execution_count": null,
      "metadata": {
        "id": "dMlMaV2nEQqI",
        "outputId": "8a72cc4d-f397-4204-f1e1-26b05080a652"
      },
      "outputs": [
        {
          "data": {
            "text/plain": [
              "(454902, 29)"
            ]
          },
          "execution_count": 49,
          "metadata": {},
          "output_type": "execute_result"
        }
      ],
      "source": [
        "X_sm.shape"
      ]
    },
    {
      "cell_type": "code",
      "execution_count": null,
      "metadata": {
        "id": "8w8TLC9UEQqJ",
        "outputId": "2d42376c-0e84-493e-eeb1-c87ca0d44fb1"
      },
      "outputs": [
        {
          "data": {
            "text/plain": [
              "(227845, 29)"
            ]
          },
          "execution_count": 50,
          "metadata": {},
          "output_type": "execute_result"
        }
      ],
      "source": [
        "X_train.shape"
      ]
    },
    {
      "cell_type": "markdown",
      "metadata": {
        "id": "4BR7XrFEEQqJ"
      },
      "source": [
        "#### ADASYN"
      ]
    },
    {
      "cell_type": "code",
      "execution_count": null,
      "metadata": {
        "id": "QmaupwtHEQqJ"
      },
      "outputs": [],
      "source": [
        "ada=ADASYN()"
      ]
    },
    {
      "cell_type": "code",
      "execution_count": null,
      "metadata": {
        "id": "qPqzizWAEQqJ"
      },
      "outputs": [],
      "source": [
        "X_ada, y_ada= ada.fit_resample(X_train,y_train)"
      ]
    },
    {
      "cell_type": "code",
      "execution_count": null,
      "metadata": {
        "id": "9fljv6pNEQqJ",
        "outputId": "739a9fe9-e76f-4d4c-9547-31d4bb2f366c"
      },
      "outputs": [
        {
          "data": {
            "text/plain": [
              "(227845, 29)"
            ]
          },
          "execution_count": 53,
          "metadata": {},
          "output_type": "execute_result"
        }
      ],
      "source": [
        "X_train.shape"
      ]
    },
    {
      "cell_type": "code",
      "execution_count": null,
      "metadata": {
        "id": "xhrHme8xEQqJ",
        "outputId": "5121b5c9-e6ba-4e93-bd72-b424e2e6cf93"
      },
      "outputs": [
        {
          "data": {
            "text/plain": [
              "(454925, 29)"
            ]
          },
          "execution_count": 54,
          "metadata": {},
          "output_type": "execute_result"
        }
      ],
      "source": [
        "X_ada.shape"
      ]
    },
    {
      "cell_type": "markdown",
      "metadata": {
        "id": "NE_H1eMdEQqJ"
      },
      "source": [
        "### Linear Regression"
      ]
    },
    {
      "cell_type": "markdown",
      "metadata": {
        "id": "WS1VLVrPEQqK"
      },
      "source": [
        "#### LR with SMOTE"
      ]
    },
    {
      "cell_type": "code",
      "execution_count": null,
      "metadata": {
        "id": "RRiTB35IEQqK",
        "outputId": "25993766-cdf3-4029-f5aa-2201e012a7fd"
      },
      "outputs": [
        {
          "name": "stdout",
          "output_type": "stream",
          "text": [
            "C: 0.001\n",
            "Coefficient of each feature: [[ 0.06618373  0.1672393   0.22365516 -1.31434053  0.02135414  0.16619575\n",
            "   0.01596526  0.53803163  0.36825136  0.76546874 -0.5527277   0.8490827\n",
            "   0.3387649   0.9127308   0.12861687  0.33695486  0.15870737  0.0630338\n",
            "   0.02145114  0.04526096 -0.11209463 -0.33323573  0.0769845  -0.05307892\n",
            "  -0.0085371   0.32433126 -0.0405803  -0.11711391 -0.03621341]]\n",
            "Training accuracy: 0.974206148917027\n",
            "Test accuracy: 0.9748779888346617\n",
            "\n",
            "C: 0.01\n",
            "Coefficient of each feature: [[-0.23177298  0.44354548  0.1594606  -1.66254971  0.0075453   0.14841749\n",
            "   0.12734294  0.86946155  0.67768928  1.38788649 -0.8286131   1.32013619\n",
            "   0.33639935  1.30548214  0.18643092  0.64008254  0.60124662  0.22620738\n",
            "  -0.07604777  0.13140958 -0.19138381 -0.39430345  0.09878141 -0.04011072\n",
            "   0.08305496  0.38530043 -0.0214814  -0.15183737  0.00844828]]\n",
            "Training accuracy: 0.9714191665386557\n",
            "Test accuracy: 0.9723148765843896\n",
            "\n",
            "C: 0.1\n",
            "Coefficient of each feature: [[-3.35167823e-01  5.34971423e-01  1.34780697e-01 -1.75910804e+00\n",
            "  -3.41552435e-04  1.37689921e-01  1.63551576e-01  9.60177453e-01\n",
            "   7.81882444e-01  1.58801822e+00 -9.06361568e-01  1.45759279e+00\n",
            "   3.33774063e-01  1.41419838e+00  2.01463761e-01  7.27909585e-01\n",
            "   7.34934366e-01  2.72823172e-01 -1.07068172e-01  1.65572000e-01\n",
            "  -2.16960711e-01 -4.06757538e-01  1.05717346e-01 -3.74967670e-02\n",
            "   1.12652810e-01  3.98569282e-01 -1.10766436e-02 -1.62591551e-01\n",
            "   1.88136077e-02]]\n",
            "Training accuracy: 0.9705808773508307\n",
            "Test accuracy: 0.9716653207401426\n",
            "\n",
            "C: 1\n",
            "Coefficient of each feature: [[-3.48519970e-01  5.46691769e-01  1.31545173e-01 -1.77115066e+00\n",
            "  -1.32808405e-03  1.36310137e-01  1.68190191e-01  9.71416857e-01\n",
            "   7.95319429e-01  1.61358103e+00 -9.16018422e-01  1.47484463e+00\n",
            "   3.33418247e-01  1.42763258e+00  2.03343526e-01  7.38859033e-01\n",
            "   7.51723518e-01  2.78594643e-01 -1.11000680e-01  1.70124244e-01\n",
            "  -2.20225854e-01 -4.08230162e-01  1.06604435e-01 -3.71469052e-02\n",
            "   1.16435977e-01  4.00139549e-01 -9.57443134e-03 -1.63924380e-01\n",
            "   2.00301320e-02]]\n",
            "Training accuracy: 0.9705194320700476\n",
            "Test accuracy: 0.9715424317966364\n",
            "\n",
            "C: 10\n",
            "Coefficient of each feature: [[-3.49851270e-01  5.47891642e-01  1.31223174e-01 -1.77239943e+00\n",
            "  -1.46435403e-03  1.36134973e-01  1.68657101e-01  9.72541210e-01\n",
            "   7.96655604e-01  1.61617209e+00 -9.16999704e-01  1.47657585e+00\n",
            "   3.33391943e-01  1.42898777e+00  2.03515425e-01  7.39961957e-01\n",
            "   7.53425370e-01  2.79197847e-01 -1.11406776e-01  1.70587712e-01\n",
            "  -2.20556570e-01 -4.08384029e-01  1.06708194e-01 -3.71393955e-02\n",
            "   1.16814116e-01  4.00309478e-01 -9.44273583e-03 -1.64074051e-01\n",
            "   2.01875170e-02]]\n",
            "Training accuracy: 0.9705018762755382\n",
            "Test accuracy: 0.9715599873599944\n",
            "\n",
            "C: 100\n",
            "Coefficient of each feature: [[-3.49988783e-01  5.48012268e-01  1.31189752e-01 -1.77252415e+00\n",
            "  -1.47463620e-03  1.36120520e-01  1.68704921e-01  9.72656886e-01\n",
            "   7.96794297e-01  1.61643527e+00 -9.17099030e-01  1.47675286e+00\n",
            "   3.33388493e-01  1.42912566e+00  2.03534610e-01  7.40074786e-01\n",
            "   7.53598021e-01  2.79257487e-01 -1.11447405e-01  1.70634661e-01\n",
            "  -2.20590306e-01 -4.08399350e-01  1.06717328e-01 -3.71362874e-02\n",
            "   1.16852971e-01  4.00326101e-01 -9.42748133e-03 -1.64087942e-01\n",
            "   2.01999431e-02]]\n",
            "Training accuracy: 0.9704974873269109\n",
            "Test accuracy: 0.9715599873599944\n",
            "\n"
          ]
        }
      ],
      "source": [
        "num_C = [0.001,0.01,0.1,1,10,100] #--> list of values\n",
        "\n",
        "for cv_num in num_C:\n",
        "  clf = LogisticRegression(penalty='l2',C=cv_num,random_state = 0)\n",
        "  clf.fit(X_sm, y_sm)\n",
        "  print('C:', cv_num)\n",
        "  print('Coefficient of each feature:', clf.coef_)\n",
        "  print('Training accuracy:', clf.score(X_train, y_train))\n",
        "  print('Test accuracy:', clf.score(X_test, y_test))\n",
        "  print('')"
      ]
    },
    {
      "cell_type": "code",
      "execution_count": null,
      "metadata": {
        "id": "D_Xtalt9EQqK",
        "outputId": "5fe81aab-af28-4a65-f248-e76ff85f0487"
      },
      "outputs": [
        {
          "name": "stdout",
          "output_type": "stream",
          "text": [
            "tuned hpyerparameters :(best parameters)  {'C': 0.01, 'penalty': 'l2'}\n",
            "accuracy : 0.9803975962273005\n",
            "AUC: 0.98\n"
          ]
        },
        {
          "data": {
            "image/png": "[encoded data removed]",
            "text/plain": [
              "<Figure size 432x288 with 1 Axes>"
            ]
          },
          "metadata": {
            "needs_background": "light"
          },
          "output_type": "display_data"
        },
        {
          "name": "stdout",
          "output_type": "stream",
          "text": [
            "                precision    recall  f1-score   support\n",
            "\n",
            "    Fraudulent       0.87      0.54      0.67        98\n",
            "Non_Fraudulent       1.00      1.00      1.00     56864\n",
            "\n",
            "      accuracy                           1.00     56962\n",
            "     macro avg       0.93      0.77      0.83     56962\n",
            "  weighted avg       1.00      1.00      1.00     56962\n",
            "\n"
          ]
        },
        {
          "data": {
            "text/plain": [
              "0.9799370930139079"
            ]
          },
          "execution_count": 56,
          "metadata": {},
          "output_type": "execute_result"
        }
      ],
      "source": [
        "grid={\"C\":np.logspace(-3,3,7), \"penalty\":[\"l2\"]}  # l2 ridge\n",
        "\n",
        "lsr = LogisticRegression()\n",
        "clf_lsr_cv = GridSearchCV(lsr,grid,cv=3,scoring='roc_auc')\n",
        "clf_lsr_cv.fit(X_train,y_train)\n",
        "\n",
        "print(\"tuned hpyerparameters :(best parameters) \",clf_lsr_cv.best_params_)\n",
        "print(\"accuracy :\",clf_lsr_cv.best_score_)\n",
        "clf_score(clf_lsr_cv)"
      ]
    },
    {
      "cell_type": "markdown",
      "metadata": {
        "id": "NXE6No19EQqK"
      },
      "source": [
        "#### LR with ADASYN"
      ]
    },
    {
      "cell_type": "code",
      "execution_count": null,
      "metadata": {
        "id": "igyrb_UqEQqK",
        "outputId": "9eabf75d-5e18-4d1b-8d3e-bd828665da02"
      },
      "outputs": [
        {
          "name": "stdout",
          "output_type": "stream",
          "text": [
            "C: 0.001\n",
            "Coefficient of each feature: [[-0.00301636  0.49560981  0.2717385  -1.65930782  0.11286097  0.19688628\n",
            "  -0.02530165  0.80114395  0.57271747  1.25132869 -0.7625757   1.10770075\n",
            "   0.2495216   1.26463798  0.23934597  0.49335276  0.35823476  0.1375707\n",
            "  -0.05187803  0.16916794 -0.09490053 -0.4045881   0.15425063 -0.00518139\n",
            "   0.03805519  0.36223292 -0.02111007 -0.25319201  0.05979239]]\n",
            "Training accuracy: 0.9109262876078036\n",
            "Test accuracy: 0.910887960394649\n",
            "\n",
            "C: 0.01\n",
            "Coefficient of each feature: [[-0.4007395   0.94836446  0.18211038 -2.0981952   0.1254824   0.15596685\n",
            "   0.11921166  1.1993774   1.02307237  2.14063051 -1.10401939  1.67900996\n",
            "   0.2124224   1.73500854  0.32571043  0.85686193  0.94460211  0.34216798\n",
            "  -0.18665486  0.35553745 -0.19642379 -0.45809285  0.20254228  0.00679451\n",
            "   0.15950852  0.41024001  0.03299021 -0.31796156  0.12850056]]\n",
            "Training accuracy: 0.909859773091356\n",
            "Test accuracy: 0.9096941820863031\n",
            "\n",
            "C: 0.1\n",
            "Coefficient of each feature: [[-0.51878646  1.07511396  0.15387678 -2.21358675  0.12492315  0.14077156\n",
            "   0.16027344  1.2999262   1.15285214  2.38917001 -1.19212326  1.83042433\n",
            "   0.20343018  1.85369451  0.34640818  0.95226186  1.10254518  0.39620525\n",
            "  -0.22422113  0.41178406 -0.22680675 -0.46995325  0.21612036  0.00783354\n",
            "   0.19286376  0.42151798  0.04979858 -0.33428314  0.1433969 ]]\n",
            "Training accuracy: 0.9093067655643091\n",
            "Test accuracy: 0.9093957375092167\n",
            "\n",
            "C: 1\n",
            "Coefficient of each feature: [[-0.53271275  1.09011263  0.15050944 -2.22708923  0.12489858  0.13902348\n",
            "   0.16501999  1.31146164  1.16814099  2.41829523 -1.20232645  1.84797997\n",
            "   0.20239888  1.86741112  0.3487953   0.96329463  1.1209033   0.4024764\n",
            "  -0.22862497  0.41848622 -0.23035235 -0.4713307   0.21774164  0.0079573\n",
            "   0.19677141  0.42281386  0.05176765 -0.33620616  0.14511464]]\n",
            "Training accuracy: 0.9092716539752902\n",
            "Test accuracy: 0.9093957375092167\n",
            "\n",
            "C: 10\n",
            "Coefficient of each feature: [[-0.53419178  1.09153577  0.15012524 -2.22840191  0.12477074  0.13880151\n",
            "   0.16550684  1.31258919  1.16965401  2.42120196 -1.20334516  1.84974997\n",
            "   0.20230422  1.86877435  0.34899394  0.96442452  1.12276901  0.40308994\n",
            "  -0.22906453  0.41914611 -0.23068938 -0.47145358  0.2178906   0.00796722\n",
            "   0.19716223  0.42291483  0.05199994 -0.33637201  0.14522013]]\n",
            "Training accuracy: 0.9092409313348987\n",
            "Test accuracy: 0.9093957375092167\n",
            "\n",
            "C: 100\n",
            "Coefficient of each feature: [[-0.53431326  1.09176419  0.15012406 -2.22858412  0.12483505  0.13878512\n",
            "   0.16555992  1.31275195  1.16985831  2.42157992 -1.20348145  1.84996161\n",
            "   0.20228332  1.86894717  0.34904673  0.96454831  1.12296865  0.40317001\n",
            "  -0.22911758  0.41923294 -0.23074029 -0.4714775   0.217911    0.00795392\n",
            "   0.1972063   0.42294159  0.05199956 -0.33641603  0.14528605]]\n",
            "Training accuracy: 0.9092453202835261\n",
            "Test accuracy: 0.9093957375092167\n",
            "\n"
          ]
        }
      ],
      "source": [
        "num_C = [0.001,0.01,0.1,1,10,100] #--> list of values\n",
        "\n",
        "for cv_num in num_C:\n",
        "  clf = LogisticRegression(penalty='l2',C=cv_num,random_state = 0)\n",
        "  clf.fit(X_ada, y_ada)\n",
        "  print('C:', cv_num)\n",
        "  print('Coefficient of each feature:', clf.coef_)\n",
        "  print('Training accuracy:', clf.score(X_train, y_train))\n",
        "  print('Test accuracy:', clf.score(X_test, y_test))\n",
        "  print('')"
      ]
    },
    {
      "cell_type": "code",
      "execution_count": null,
      "metadata": {
        "id": "WlBclyoHEQqK",
        "outputId": "0f9f68f8-f2c2-44ba-8357-5718c3dd19c2"
      },
      "outputs": [
        {
          "name": "stdout",
          "output_type": "stream",
          "text": [
            "tuned hpyerparameters :(best parameters)  {'C': 0.01, 'penalty': 'l2'}\n",
            "accuracy : 0.9803975962273005\n",
            "AUC: 0.98\n"
          ]
        },
        {
          "data": {
            "image/png": "[encoded data removed]",
            "text/plain": [
              "<Figure size 432x288 with 1 Axes>"
            ]
          },
          "metadata": {
            "needs_background": "light"
          },
          "output_type": "display_data"
        },
        {
          "name": "stdout",
          "output_type": "stream",
          "text": [
            "                precision    recall  f1-score   support\n",
            "\n",
            "    Fraudulent       0.87      0.54      0.67        98\n",
            "Non_Fraudulent       1.00      1.00      1.00     56864\n",
            "\n",
            "      accuracy                           1.00     56962\n",
            "     macro avg       0.93      0.77      0.83     56962\n",
            "  weighted avg       1.00      1.00      1.00     56962\n",
            "\n"
          ]
        },
        {
          "data": {
            "text/plain": [
              "0.9799370930139079"
            ]
          },
          "execution_count": 58,
          "metadata": {},
          "output_type": "execute_result"
        }
      ],
      "source": [
        "grid={\"C\":np.logspace(-3,3,7), \"penalty\":[\"l2\"]}  # l2 ridge\n",
        "\n",
        "lsr = LogisticRegression()\n",
        "clf_lsr_cv = GridSearchCV(lsr,grid,cv=3,scoring='roc_auc')\n",
        "clf_lsr_cv.fit(X_train,y_train)\n",
        "\n",
        "print(\"tuned hpyerparameters :(best parameters) \",clf_lsr_cv.best_params_)\n",
        "print(\"accuracy :\",clf_lsr_cv.best_score_)\n",
        "clf_score(clf_lsr_cv)"
      ]
    },
    {
      "cell_type": "markdown",
      "metadata": {
        "id": "FcZ111zXEQqK"
      },
      "source": [
        "#### Decision Tree with SMOTE"
      ]
    },
    {
      "cell_type": "code",
      "execution_count": null,
      "metadata": {
        "id": "YbwwnzpyEQqL",
        "outputId": "2cd8af1f-3996-4c53-c685-9e6f8b32632d"
      },
      "outputs": [
        {
          "data": {
            "text/plain": [
              "0.99750711000316"
            ]
          },
          "execution_count": 59,
          "metadata": {},
          "output_type": "execute_result"
        }
      ],
      "source": [
        "from sklearn import tree\n",
        "from pprint import pprint\n",
        "clf = tree.DecisionTreeClassifier()\n",
        "clf.fit(X_sm,y_sm)\n",
        "Y_pred=clf.predict(X_test)\n",
        "metrics.accuracy_score(Y_pred,y_test)"
      ]
    },
    {
      "cell_type": "code",
      "execution_count": null,
      "metadata": {
        "id": "4lOFkMNNEQqL",
        "outputId": "686d1e58-66cf-4eb9-ddb7-9513704a0fd4"
      },
      "outputs": [
        {
          "name": "stdout",
          "output_type": "stream",
          "text": [
            "AUC: 0.87\n"
          ]
        },
        {
          "data": {
            "image/png": "[encoded data removed]",
            "text/plain": [
              "<Figure size 432x288 with 1 Axes>"
            ]
          },
          "metadata": {
            "needs_background": "light"
          },
          "output_type": "display_data"
        },
        {
          "name": "stdout",
          "output_type": "stream",
          "text": [
            "                precision    recall  f1-score   support\n",
            "\n",
            "    Fraudulent       0.38      0.74      0.51        98\n",
            "Non_Fraudulent       1.00      1.00      1.00     56864\n",
            "\n",
            "      accuracy                           1.00     56962\n",
            "     macro avg       0.69      0.87      0.75     56962\n",
            "  weighted avg       1.00      1.00      1.00     56962\n",
            "\n"
          ]
        },
        {
          "data": {
            "text/plain": [
              "0.871420209192287"
            ]
          },
          "execution_count": 60,
          "metadata": {},
          "output_type": "execute_result"
        }
      ],
      "source": [
        "clf_score(clf)"
      ]
    },
    {
      "cell_type": "markdown",
      "metadata": {
        "id": "c5eV_4UhEQqL"
      },
      "source": [
        "#### Decision Tree with ADASYN"
      ]
    },
    {
      "cell_type": "code",
      "execution_count": null,
      "metadata": {
        "id": "1t8EfCMTEQqL",
        "outputId": "ad5fa62d-4263-4e87-f527-d7841c692947"
      },
      "outputs": [
        {
          "data": {
            "text/plain": [
              "0.9977528878901724"
            ]
          },
          "execution_count": 61,
          "metadata": {},
          "output_type": "execute_result"
        }
      ],
      "source": [
        "from sklearn import tree\n",
        "from pprint import pprint\n",
        "clf = tree.DecisionTreeClassifier()\n",
        "clf.fit(X_ada,y_ada)\n",
        "Y_pred=clf.predict(X_test)\n",
        "metrics.accuracy_score(Y_pred,y_test)"
      ]
    },
    {
      "cell_type": "code",
      "execution_count": null,
      "metadata": {
        "id": "s-j6zNYpEQqL",
        "outputId": "3e779a48-f010-4183-a708-40ddf2dedf8a"
      },
      "outputs": [
        {
          "name": "stdout",
          "output_type": "stream",
          "text": [
            "AUC: 0.86\n"
          ]
        },
        {
          "data": {
            "image/png": "[encoded data removed]",
            "text/plain": [
              "<Figure size 432x288 with 1 Axes>"
            ]
          },
          "metadata": {
            "needs_background": "light"
          },
          "output_type": "display_data"
        },
        {
          "name": "stdout",
          "output_type": "stream",
          "text": [
            "                precision    recall  f1-score   support\n",
            "\n",
            "    Fraudulent       0.41      0.72      0.53        98\n",
            "Non_Fraudulent       1.00      1.00      1.00     56864\n",
            "\n",
            "      accuracy                           1.00     56962\n",
            "     macro avg       0.71      0.86      0.76     56962\n",
            "  weighted avg       1.00      1.00      1.00     56962\n",
            "\n"
          ]
        },
        {
          "data": {
            "text/plain": [
              "0.8613568141099996"
            ]
          },
          "execution_count": 62,
          "metadata": {},
          "output_type": "execute_result"
        }
      ],
      "source": [
        "clf_score(clf)"
      ]
    },
    {
      "cell_type": "markdown",
      "metadata": {
        "id": "KgXDuw_9EQqL"
      },
      "source": [
        "#### Random Forest with SMOTE"
      ]
    },
    {
      "cell_type": "code",
      "execution_count": null,
      "metadata": {
        "id": "bTW6TY5gEQqL",
        "outputId": "626784fe-06fb-42a5-e1ed-8ff212a1449b"
      },
      "outputs": [
        {
          "data": {
            "text/plain": [
              "0.9995611109160493"
            ]
          },
          "execution_count": 63,
          "metadata": {},
          "output_type": "execute_result"
        }
      ],
      "source": [
        "r_clf=RandomForestClassifier()\n",
        "r_clf.fit(X_sm,y_sm)\n",
        "Y_pred=r_clf.predict(X_test)\n",
        "metrics.accuracy_score(Y_pred,y_test)\n"
      ]
    },
    {
      "cell_type": "code",
      "execution_count": null,
      "metadata": {
        "id": "_QwhWQmJEQqM",
        "outputId": "46f01f16-deba-4b2b-dbf3-de9cb1a35697"
      },
      "outputs": [
        {
          "name": "stdout",
          "output_type": "stream",
          "text": [
            "AUC: 0.98\n"
          ]
        },
        {
          "data": {
            "image/png": "[encoded data removed]",
            "text/plain": [
              "<Figure size 432x288 with 1 Axes>"
            ]
          },
          "metadata": {
            "needs_background": "light"
          },
          "output_type": "display_data"
        },
        {
          "name": "stdout",
          "output_type": "stream",
          "text": [
            "                precision    recall  f1-score   support\n",
            "\n",
            "    Fraudulent       0.92      0.82      0.86        98\n",
            "Non_Fraudulent       1.00      1.00      1.00     56864\n",
            "\n",
            "      accuracy                           1.00     56962\n",
            "     macro avg       0.96      0.91      0.93     56962\n",
            "  weighted avg       1.00      1.00      1.00     56962\n",
            "\n"
          ]
        },
        {
          "data": {
            "text/plain": [
              "0.9781335596281282"
            ]
          },
          "execution_count": 64,
          "metadata": {},
          "output_type": "execute_result"
        }
      ],
      "source": [
        "clf_score(r_clf)"
      ]
    },
    {
      "cell_type": "markdown",
      "metadata": {
        "id": "gSRx0oGGEQqM"
      },
      "source": [
        "#### Random Forest with ADASYN"
      ]
    },
    {
      "cell_type": "code",
      "execution_count": null,
      "metadata": {
        "id": "3B_Vm344EQqM",
        "outputId": "1b71dde8-1ced-41e3-ce0a-a7dc05403943"
      },
      "outputs": [
        {
          "data": {
            "text/plain": [
              "0.9995435553526912"
            ]
          },
          "execution_count": 65,
          "metadata": {},
          "output_type": "execute_result"
        }
      ],
      "source": [
        "r_clf=RandomForestClassifier()\n",
        "r_clf.fit(X_ada,y_ada)\n",
        "Y_pred=r_clf.predict(X_test)\n",
        "metrics.accuracy_score(Y_pred,y_test)\n"
      ]
    },
    {
      "cell_type": "code",
      "execution_count": null,
      "metadata": {
        "id": "wXlOJGPTEQqM",
        "outputId": "2ca96f3e-04a7-48d2-c0a6-5f450ee19201"
      },
      "outputs": [
        {
          "name": "stdout",
          "output_type": "stream",
          "text": [
            "AUC: 0.97\n"
          ]
        },
        {
          "data": {
            "image/png": "[encoded data removed]",
            "text/plain": [
              "<Figure size 432x288 with 1 Axes>"
            ]
          },
          "metadata": {
            "needs_background": "light"
          },
          "output_type": "display_data"
        },
        {
          "name": "stdout",
          "output_type": "stream",
          "text": [
            "                precision    recall  f1-score   support\n",
            "\n",
            "    Fraudulent       0.92      0.81      0.86        98\n",
            "Non_Fraudulent       1.00      1.00      1.00     56864\n",
            "\n",
            "      accuracy                           1.00     56962\n",
            "     macro avg       0.96      0.90      0.93     56962\n",
            "  weighted avg       1.00      1.00      1.00     56962\n",
            "\n"
          ]
        },
        {
          "data": {
            "text/plain": [
              "0.9700704617102891"
            ]
          },
          "execution_count": 66,
          "metadata": {},
          "output_type": "execute_result"
        }
      ],
      "source": [
        "                            clf_score(r_clf)"
      ]
    },
    {
      "cell_type": "markdown",
      "metadata": {
        "id": "El1I8j--EQqM"
      },
      "source": [
        "#### XgBoost with SMOTE"
      ]
    },
    {
      "cell_type": "code",
      "execution_count": null,
      "metadata": {
        "id": "kVSTguzJEQqM",
        "outputId": "f8452638-c768-4f1e-c7fc-3b2fc90ba273"
      },
      "outputs": [
        {
          "name": "stderr",
          "output_type": "stream",
          "text": [
            "C:\\Users\\Teja Tetali\\Anaconda\\lib\\site-packages\\xgboost\\sklearn.py:1224: UserWarning: The use of label encoder in XGBClassifier is deprecated and will be removed in a future release. To remove this warning, do the following: 1) Pass option use_label_encoder=False when constructing XGBClassifier object; and 2) Encode your labels (y) as integers starting with 0, i.e. 0, 1, 2, ..., [num_class - 1].\n",
            "  warnings.warn(label_encoder_deprecation_msg, UserWarning)\n"
          ]
        },
        {
          "name": "stdout",
          "output_type": "stream",
          "text": [
            "[10:06:58] WARNING: C:/Users/Administrator/workspace/xgboost-win64_release_1.5.1/src/learner.cc:1115: Starting in XGBoost 1.3.0, the default evaluation metric used with the objective 'binary:logistic' was changed from 'error' to 'logloss'. Explicitly set eval_metric if you'd like to restore the old behavior.\n"
          ]
        },
        {
          "data": {
            "text/plain": [
              "0.9991397773954567"
            ]
          },
          "execution_count": 67,
          "metadata": {},
          "output_type": "execute_result"
        }
      ],
      "source": [
        "x_clf=XGBClassifier()\n",
        "x_clf.fit(X_sm,y_sm)\n",
        "Y_pred=x_clf.predict(X_test)\n",
        "metrics.accuracy_score(Y_pred,y_test)\n",
        "\n"
      ]
    },
    {
      "cell_type": "code",
      "execution_count": null,
      "metadata": {
        "id": "Zm8BP9PGEQqM",
        "outputId": "a59d1572-54de-421c-a19c-faa9d3149adb"
      },
      "outputs": [
        {
          "name": "stdout",
          "output_type": "stream",
          "text": [
            "AUC: 0.98\n"
          ]
        },
        {
          "data": {
            "image/png": "[encoded data removed]",
            "text/plain": [
              "<Figure size 432x288 with 1 Axes>"
            ]
          },
          "metadata": {
            "needs_background": "light"
          },
          "output_type": "display_data"
        },
        {
          "name": "stdout",
          "output_type": "stream",
          "text": [
            "                precision    recall  f1-score   support\n",
            "\n",
            "    Fraudulent       0.70      0.87      0.78        98\n",
            "Non_Fraudulent       1.00      1.00      1.00     56864\n",
            "\n",
            "      accuracy                           1.00     56962\n",
            "     macro avg       0.85      0.93      0.89     56962\n",
            "  weighted avg       1.00      1.00      1.00     56962\n",
            "\n"
          ]
        },
        {
          "data": {
            "text/plain": [
              "0.984969867237835"
            ]
          },
          "execution_count": 68,
          "metadata": {},
          "output_type": "execute_result"
        }
      ],
      "source": [
        "clf_score(x_clf)"
      ]
    },
    {
      "cell_type": "markdown",
      "metadata": {
        "id": "Erwk7tuQEQqN"
      },
      "source": [
        "#### XgBoost with ADASYN"
      ]
    },
    {
      "cell_type": "code",
      "execution_count": null,
      "metadata": {
        "id": "hHou-1yzEQqN",
        "outputId": "d26c0437-1aa8-4ce8-defa-541e8c3329da"
      },
      "outputs": [
        {
          "name": "stderr",
          "output_type": "stream",
          "text": [
            "C:\\Users\\Teja Tetali\\Anaconda\\lib\\site-packages\\xgboost\\sklearn.py:1224: UserWarning: The use of label encoder in XGBClassifier is deprecated and will be removed in a future release. To remove this warning, do the following: 1) Pass option use_label_encoder=False when constructing XGBClassifier object; and 2) Encode your labels (y) as integers starting with 0, i.e. 0, 1, 2, ..., [num_class - 1].\n",
            "  warnings.warn(label_encoder_deprecation_msg, UserWarning)\n"
          ]
        },
        {
          "name": "stdout",
          "output_type": "stream",
          "text": [
            "[10:08:05] WARNING: C:/Users/Administrator/workspace/xgboost-win64_release_1.5.1/src/learner.cc:1115: Starting in XGBoost 1.3.0, the default evaluation metric used with the objective 'binary:logistic' was changed from 'error' to 'logloss'. Explicitly set eval_metric if you'd like to restore the old behavior.\n"
          ]
        },
        {
          "data": {
            "text/plain": [
              "0.9989817773252344"
            ]
          },
          "execution_count": 69,
          "metadata": {},
          "output_type": "execute_result"
        }
      ],
      "source": [
        "x_clf=XGBClassifier()\n",
        "x_clf.fit(X_ada,y_ada)\n",
        "Y_pred=x_clf.predict(X_test)\n",
        "metrics.accuracy_score(Y_pred,y_test)\n"
      ]
    },
    {
      "cell_type": "code",
      "execution_count": null,
      "metadata": {
        "id": "wlnmkwBVEQqN",
        "outputId": "123ce6a0-795b-42f8-f497-b393d9508e5b"
      },
      "outputs": [
        {
          "name": "stdout",
          "output_type": "stream",
          "text": [
            "AUC: 0.98\n"
          ]
        },
        {
          "data": {
            "image/png": "[encoded data removed]",
            "text/plain": [
              "<Figure size 432x288 with 1 Axes>"
            ]
          },
          "metadata": {
            "needs_background": "light"
          },
          "output_type": "display_data"
        },
        {
          "name": "stdout",
          "output_type": "stream",
          "text": [
            "                precision    recall  f1-score   support\n",
            "\n",
            "    Fraudulent       0.66      0.86      0.74        98\n",
            "Non_Fraudulent       1.00      1.00      1.00     56864\n",
            "\n",
            "      accuracy                           1.00     56962\n",
            "     macro avg       0.83      0.93      0.87     56962\n",
            "  weighted avg       1.00      1.00      1.00     56962\n",
            "\n"
          ]
        },
        {
          "data": {
            "text/plain": [
              "0.9811528473235102"
            ]
          },
          "execution_count": 70,
          "metadata": {},
          "output_type": "execute_result"
        }
      ],
      "source": [
        "clf_score(x_clf)"
      ]
    },
    {
      "cell_type": "markdown",
      "metadata": {
        "id": "Cg8W0Zf3EQqN"
      },
      "source": [
        "#### KNN with SMOTE"
      ]
    },
    {
      "cell_type": "code",
      "execution_count": null,
      "metadata": {
        "id": "lfepbMvAEQqN",
        "outputId": "faac7084-e9ea-4f82-eac9-e2a323c60f2c"
      },
      "outputs": [
        {
          "data": {
            "text/plain": [
              "0.9980864435939749"
            ]
          },
          "execution_count": 71,
          "metadata": {},
          "output_type": "execute_result"
        }
      ],
      "source": [
        "model=KNeighborsClassifier()\n",
        "model.fit(X_sm,y_sm)\n",
        "y_pred=model.predict(X_test)\n",
        "metrics.accuracy_score(y_pred,y_test)\n"
      ]
    },
    {
      "cell_type": "code",
      "execution_count": null,
      "metadata": {
        "id": "Yivru-dIEQqN",
        "outputId": "8a7b12ee-1dbc-441d-a5ad-67ec85e7e4ee"
      },
      "outputs": [
        {
          "name": "stdout",
          "output_type": "stream",
          "text": [
            "AUC: 0.94\n"
          ]
        },
        {
          "data": {
            "image/png": "[encoded data removed]",
            "text/plain": [
              "<Figure size 432x288 with 1 Axes>"
            ]
          },
          "metadata": {
            "needs_background": "light"
          },
          "output_type": "display_data"
        },
        {
          "name": "stdout",
          "output_type": "stream",
          "text": [
            "                precision    recall  f1-score   support\n",
            "\n",
            "    Fraudulent       0.96      0.77      0.85        98\n",
            "Non_Fraudulent       1.00      1.00      1.00     56864\n",
            "\n",
            "      accuracy                           1.00     56962\n",
            "     macro avg       0.98      0.88      0.93     56962\n",
            "  weighted avg       1.00      1.00      1.00     56962\n",
            "\n"
          ]
        },
        {
          "data": {
            "text/plain": [
              "0.938721047999954"
            ]
          },
          "execution_count": 72,
          "metadata": {},
          "output_type": "execute_result"
        }
      ],
      "source": [
        "clf_score(knn_clf)"
      ]
    },
    {
      "cell_type": "markdown",
      "metadata": {
        "id": "z7y_RuxtEQqN"
      },
      "source": [
        "#### KNN with ADASYN"
      ]
    },
    {
      "cell_type": "code",
      "execution_count": null,
      "metadata": {
        "id": "iIBNUjbCEQqO",
        "outputId": "e5407504-8d59-4c0c-954a-71ffd1e2e119"
      },
      "outputs": [
        {
          "data": {
            "text/plain": [
              "0.9980688880306169"
            ]
          },
          "execution_count": 73,
          "metadata": {},
          "output_type": "execute_result"
        }
      ],
      "source": [
        "model=KNeighborsClassifier()\n",
        "model.fit(X_ada,y_ada)\n",
        "y_pred=model.predict(X_test)\n",
        "metrics.accuracy_score(y_pred,y_test)\n"
      ]
    },
    {
      "cell_type": "code",
      "execution_count": null,
      "metadata": {
        "id": "1n9pchHyEQqO",
        "outputId": "91574b93-e9e4-437a-877f-fe943a678817"
      },
      "outputs": [
        {
          "name": "stdout",
          "output_type": "stream",
          "text": [
            "AUC: 0.94\n"
          ]
        },
        {
          "data": {
            "image/png": "[encoded data removed]",
            "text/plain": [
              "<Figure size 432x288 with 1 Axes>"
            ]
          },
          "metadata": {
            "needs_background": "light"
          },
          "output_type": "display_data"
        },
        {
          "name": "stdout",
          "output_type": "stream",
          "text": [
            "                precision    recall  f1-score   support\n",
            "\n",
            "    Fraudulent       0.96      0.77      0.85        98\n",
            "Non_Fraudulent       1.00      1.00      1.00     56864\n",
            "\n",
            "      accuracy                           1.00     56962\n",
            "     macro avg       0.98      0.88      0.93     56962\n",
            "  weighted avg       1.00      1.00      1.00     56962\n",
            "\n"
          ]
        },
        {
          "data": {
            "text/plain": [
              "0.938721047999954"
            ]
          },
          "execution_count": 74,
          "metadata": {},
          "output_type": "execute_result"
        }
      ],
      "source": [
        "clf_score(knn_clf)"
      ]
    }
  ],
  "metadata": {
    "kernelspec": {
      "display_name": "Python 3 (ipykernel)",
      "language": "python",
      "name": "python3"
    },
    "language_info": {
      "codemirror_mode": {
        "name": "ipython",
        "version": 3
      },
      "file_extension": ".py",
      "mimetype": "text/x-python",
      "name": "python",
      "nbconvert_exporter": "python",
      "pygments_lexer": "ipython3",
      "version": "3.9.7"
    },
    "colab": {
      "provenance": []
    }
  },
  "nbformat": 4,
  "nbformat_minor": 0
}